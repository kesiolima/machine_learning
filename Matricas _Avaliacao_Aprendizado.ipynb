{
 "cells": [
  {
   "cell_type": "code",
   "execution_count": 4,
   "metadata": {},
   "outputs": [
    {
     "data": {
      "text/plain": [
       "0.9625668449197862"
      ]
     },
     "execution_count": 4,
     "metadata": {},
     "output_type": "execute_result"
    }
   ],
   "source": [
    "''' vp verdadeiro positivo\n",
    "    vn verdadeiro negativo\n",
    "    fp falso positivo\n",
    "    fn falso negativo\n",
    "'''\n",
    "def sensibilidade(vp,fn):\n",
    "    return vp/(vp+fn)\n",
    "\n",
    "def especificidade(vn,fp):\n",
    "    return vn/(fp+vn)\n",
    "\n",
    "def acuracia(vp,vn,fp,fn):\n",
    "    return (vp+vn)/(vp+vn+fp+fn)\n",
    "\n",
    "def precisao(vp,fp):\n",
    "    return vp/(vp+fp)\n",
    "\n",
    "def f_score(vp,fp,fn):\n",
    "    return 2 * (precisao(vp,fp) * sensibilidade(vp,fn)) / (precisao(vp,fp) + sensibilidade(vp,fn))\n",
    "\n",
    "\n",
    "\n"
   ]
  }
 ],
 "metadata": {
  "kernelspec": {
   "display_name": "Python 3",
   "language": "python",
   "name": "python3"
  },
  "language_info": {
   "codemirror_mode": {
    "name": "ipython",
    "version": 3
   },
   "file_extension": ".py",
   "mimetype": "text/x-python",
   "name": "python",
   "nbconvert_exporter": "python",
   "pygments_lexer": "ipython3",
   "version": "3.12.4"
  }
 },
 "nbformat": 4,
 "nbformat_minor": 2
}
